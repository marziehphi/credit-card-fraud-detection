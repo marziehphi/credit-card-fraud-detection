{
  "nbformat": 4,
  "nbformat_minor": 0,
  "metadata": {
    "colab": {
      "name": "Predictive Maintenance via Anomaly Detection using Machine Learning Test.ipynb",
      "provenance": [],
      "collapsed_sections": []
    },
    "kernelspec": {
      "name": "python3",
      "display_name": "Python 3"
    },
    "accelerator": "GPU"
  },
  "cells": [
    {
      "cell_type": "markdown",
      "metadata": {
        "id": "gTNx4F5wbzkI"
      },
      "source": [
        "# Import Libraries\n"
      ]
    },
    {
      "cell_type": "code",
      "metadata": {
        "id": "dHwjBqAJacxc"
      },
      "source": [
        "from __future__ import absolute_import, division, print_function, unicode_literals\n",
        "\n",
        "try:\n",
        "    %tensorflow_version 2.x\n",
        "except Exception:\n",
        "    pass\n",
        "\n",
        "import tensorflow as tf"
      ],
      "execution_count": null,
      "outputs": []
    },
    {
      "cell_type": "code",
      "metadata": {
        "id": "57jqEZMmbxvm",
        "colab": {
          "base_uri": "https://localhost:8080/"
        },
        "outputId": "a39eaef7-a3fe-43f6-c064-930283978dd6"
      },
      "source": [
        "!pip install -qU gdown"
      ],
      "execution_count": null,
      "outputs": [
        {
          "output_type": "stream",
          "text": [
            "  Installing build dependencies ... \u001b[?25l\u001b[?25hdone\n",
            "  Getting requirements to build wheel ... \u001b[?25l\u001b[?25hdone\n",
            "    Preparing wheel metadata ... \u001b[?25l\u001b[?25hdone\n",
            "  Building wheel for gdown (PEP 517) ... \u001b[?25l\u001b[?25hdone\n"
          ],
          "name": "stdout"
        }
      ]
    },
    {
      "cell_type": "code",
      "metadata": {
        "id": "LiE5D75fSkdS",
        "colab": {
          "base_uri": "https://localhost:8080/"
        },
        "outputId": "07626a8c-a844-4b59-ed8f-09a8271d68fe"
      },
      "source": [
        "import numpy as np\n",
        "import pandas as pd\n",
        "\n",
        "import sklearn\n",
        "from sklearn.model_selection import train_test_split\n",
        "from sklearn.linear_model import LogisticRegression\n",
        "from sklearn.metrics import classification_report, accuracy_score, precision_score, recall_score, f1_score\n",
        "from sklearn.metrics import auc\n",
        "from sklearn.metrics import precision_recall_curve\n",
        "from sklearn.metrics import roc_curve\n",
        "from sklearn.preprocessing import StandardScaler\n",
        "from sklearn.ensemble import IsolationForest\n",
        "from sklearn.cluster import KMeans\n",
        "from sklearn.decomposition import PCA\n",
        "from sklearn.preprocessing import scale\n",
        "\n",
        "\n",
        "import imblearn\n",
        "from imblearn.under_sampling import RandomUnderSampler\n",
        "from imblearn.over_sampling import SMOTE\n",
        "\n",
        "import seaborn as sns\n",
        "import matplotlib as mpl\n",
        "import matplotlib.pyplot as plt\n",
        "\n",
        "import gdown \n",
        "import os\n",
        "import tqdm\n",
        "from pprint import pprint\n",
        "from itertools import cycle\n",
        "\n",
        "# This part to show what version you're using for each package.\n",
        "print('Information [version]:')\n",
        "print('tensorflow', tf.__version__)\n",
        "print('numpy', np.__version__)\n",
        "print('pandas', pd.__version__)\n",
        "print('sklearn', sklearn.__version__)\n",
        "print('imblearn', imblearn.__version__)\n",
        "print('matplotlib', mpl.__version__)\n",
        "print('seaborn', sns.__version__)\n",
        "print('tqdm', tqdm.__version__)\n",
        "print('gdown', gdown.__version__)\n",
        "print('imblearn', imblearn.__version__)\n",
        "\n",
        "%matplotlib inline"
      ],
      "execution_count": null,
      "outputs": [
        {
          "output_type": "stream",
          "text": [
            "Information [version]:\n",
            "tensorflow 2.3.0\n",
            "numpy 1.18.5\n",
            "pandas 1.1.4\n",
            "sklearn 0.22.2.post1\n",
            "imblearn 0.4.3\n",
            "matplotlib 3.2.2\n",
            "seaborn 0.11.0\n",
            "tqdm 4.41.1\n",
            "gdown 3.6.4\n",
            "imblearn 0.4.3\n"
          ],
          "name": "stdout"
        },
        {
          "output_type": "stream",
          "text": [
            "/usr/local/lib/python3.6/dist-packages/sklearn/externals/six.py:31: FutureWarning: The module is deprecated in version 0.21 and will be removed in version 0.23 since we've dropped support for Python 2.7. Please rely on the official version of six (https://pypi.org/project/six/).\n",
            "  \"(https://pypi.org/project/six/).\", FutureWarning)\n",
            "/usr/local/lib/python3.6/dist-packages/sklearn/utils/deprecation.py:144: FutureWarning: The sklearn.neighbors.base module is  deprecated in version 0.22 and will be removed in version 0.24. The corresponding classes / functions should instead be imported from sklearn.neighbors. Anything that cannot be imported from sklearn.neighbors is now part of the private API.\n",
            "  warnings.warn(message, FutureWarning)\n"
          ],
          "name": "stderr"
        }
      ]
    },
    {
      "cell_type": "markdown",
      "metadata": {
        "id": "JwFv4FNbtpGi"
      },
      "source": [
        "# General Configuration"
      ]
    },
    {
      "cell_type": "code",
      "metadata": {
        "id": "oVhu_ChFzAkd"
      },
      "source": [
        "# GENERAL CONFIGURATION\n",
        "RANDOM_SEED = 42\n",
        "TEST_SIZE = 0.01\n",
        "VAL_SIZE = 0.01\n",
        "BATCH_SIZE = 128\n",
        "EPOCHS = 10"
      ],
      "execution_count": null,
      "outputs": []
    },
    {
      "cell_type": "markdown",
      "metadata": {
        "id": "PPSiaS7McQvW"
      },
      "source": [
        "# Load Dataset"
      ]
    },
    {
      "cell_type": "markdown",
      "metadata": {
        "id": "vuwjQY92PKtd"
      },
      "source": [
        "This dataset presents the transactions that occurred in two days. The dataset has +200k rows and 31 columns. The time, amount, and class are non-transformed features. The V1 to V28 columns were transformed using a dimensional reduction PCA (Principle Component Analysis) to protect user identities."
      ]
    },
    {
      "cell_type": "code",
      "metadata": {
        "id": "E0rVEnRUSs4V"
      },
      "source": [
        "url = 'https://drive.google.com/uc?id=xxx'\n",
        "output = 'creditcard.csv'\n",
        "gdown.download(url, output, quiet=False)"
      ],
      "execution_count": null,
      "outputs": []
    },
    {
      "cell_type": "code",
      "metadata": {
        "id": "31d2BxfBT4Hu",
        "colab": {
          "base_uri": "https://localhost:8080/",
          "height": 224
        },
        "outputId": "ade83bb0-9474-4a97-85a5-0d2cf9cf0d48"
      },
      "source": [
        "data = pd.read_csv('./creditcard.csv')\n",
        "data['Class'] = data['Class'].apply(lambda x: int(x.replace(\"'\", \"\")))\n",
        "data.head()"
      ],
      "execution_count": null,
      "outputs": [
        {
          "output_type": "execute_result",
          "data": {
            "text/html": [
              "<div>\n",
              "<style scoped>\n",
              "    .dataframe tbody tr th:only-of-type {\n",
              "        vertical-align: middle;\n",
              "    }\n",
              "\n",
              "    .dataframe tbody tr th {\n",
              "        vertical-align: top;\n",
              "    }\n",
              "\n",
              "    .dataframe thead th {\n",
              "        text-align: right;\n",
              "    }\n",
              "</style>\n",
              "<table border=\"1\" class=\"dataframe\">\n",
              "  <thead>\n",
              "    <tr style=\"text-align: right;\">\n",
              "      <th></th>\n",
              "      <th>Time</th>\n",
              "      <th>V1</th>\n",
              "      <th>V2</th>\n",
              "      <th>V3</th>\n",
              "      <th>V4</th>\n",
              "      <th>V5</th>\n",
              "      <th>V6</th>\n",
              "      <th>V7</th>\n",
              "      <th>V8</th>\n",
              "      <th>V9</th>\n",
              "      <th>V10</th>\n",
              "      <th>V11</th>\n",
              "      <th>V12</th>\n",
              "      <th>V13</th>\n",
              "      <th>V14</th>\n",
              "      <th>V15</th>\n",
              "      <th>V16</th>\n",
              "      <th>V17</th>\n",
              "      <th>V18</th>\n",
              "      <th>V19</th>\n",
              "      <th>V20</th>\n",
              "      <th>V21</th>\n",
              "      <th>V22</th>\n",
              "      <th>V23</th>\n",
              "      <th>V24</th>\n",
              "      <th>V25</th>\n",
              "      <th>V26</th>\n",
              "      <th>V27</th>\n",
              "      <th>V28</th>\n",
              "      <th>Amount</th>\n",
              "      <th>Class</th>\n",
              "    </tr>\n",
              "  </thead>\n",
              "  <tbody>\n",
              "    <tr>\n",
              "      <th>0</th>\n",
              "      <td>0.0</td>\n",
              "      <td>-1.359807</td>\n",
              "      <td>-0.072781</td>\n",
              "      <td>2.536347</td>\n",
              "      <td>1.378155</td>\n",
              "      <td>-0.338321</td>\n",
              "      <td>0.462388</td>\n",
              "      <td>0.239599</td>\n",
              "      <td>0.098698</td>\n",
              "      <td>0.363787</td>\n",
              "      <td>0.090794</td>\n",
              "      <td>-0.551600</td>\n",
              "      <td>-0.617801</td>\n",
              "      <td>-0.991390</td>\n",
              "      <td>-0.311169</td>\n",
              "      <td>1.468177</td>\n",
              "      <td>-0.470401</td>\n",
              "      <td>0.207971</td>\n",
              "      <td>0.025791</td>\n",
              "      <td>0.403993</td>\n",
              "      <td>0.251412</td>\n",
              "      <td>-0.018307</td>\n",
              "      <td>0.277838</td>\n",
              "      <td>-0.110474</td>\n",
              "      <td>0.066928</td>\n",
              "      <td>0.128539</td>\n",
              "      <td>-0.189115</td>\n",
              "      <td>0.133558</td>\n",
              "      <td>-0.021053</td>\n",
              "      <td>149.62</td>\n",
              "      <td>0</td>\n",
              "    </tr>\n",
              "    <tr>\n",
              "      <th>1</th>\n",
              "      <td>0.0</td>\n",
              "      <td>1.191857</td>\n",
              "      <td>0.266151</td>\n",
              "      <td>0.166480</td>\n",
              "      <td>0.448154</td>\n",
              "      <td>0.060018</td>\n",
              "      <td>-0.082361</td>\n",
              "      <td>-0.078803</td>\n",
              "      <td>0.085102</td>\n",
              "      <td>-0.255425</td>\n",
              "      <td>-0.166974</td>\n",
              "      <td>1.612727</td>\n",
              "      <td>1.065235</td>\n",
              "      <td>0.489095</td>\n",
              "      <td>-0.143772</td>\n",
              "      <td>0.635558</td>\n",
              "      <td>0.463917</td>\n",
              "      <td>-0.114805</td>\n",
              "      <td>-0.183361</td>\n",
              "      <td>-0.145783</td>\n",
              "      <td>-0.069083</td>\n",
              "      <td>-0.225775</td>\n",
              "      <td>-0.638672</td>\n",
              "      <td>0.101288</td>\n",
              "      <td>-0.339846</td>\n",
              "      <td>0.167170</td>\n",
              "      <td>0.125895</td>\n",
              "      <td>-0.008983</td>\n",
              "      <td>0.014724</td>\n",
              "      <td>2.69</td>\n",
              "      <td>0</td>\n",
              "    </tr>\n",
              "    <tr>\n",
              "      <th>2</th>\n",
              "      <td>1.0</td>\n",
              "      <td>-1.358354</td>\n",
              "      <td>-1.340163</td>\n",
              "      <td>1.773209</td>\n",
              "      <td>0.379780</td>\n",
              "      <td>-0.503198</td>\n",
              "      <td>1.800499</td>\n",
              "      <td>0.791461</td>\n",
              "      <td>0.247676</td>\n",
              "      <td>-1.514654</td>\n",
              "      <td>0.207643</td>\n",
              "      <td>0.624501</td>\n",
              "      <td>0.066084</td>\n",
              "      <td>0.717293</td>\n",
              "      <td>-0.165946</td>\n",
              "      <td>2.345865</td>\n",
              "      <td>-2.890083</td>\n",
              "      <td>1.109969</td>\n",
              "      <td>-0.121359</td>\n",
              "      <td>-2.261857</td>\n",
              "      <td>0.524980</td>\n",
              "      <td>0.247998</td>\n",
              "      <td>0.771679</td>\n",
              "      <td>0.909412</td>\n",
              "      <td>-0.689281</td>\n",
              "      <td>-0.327642</td>\n",
              "      <td>-0.139097</td>\n",
              "      <td>-0.055353</td>\n",
              "      <td>-0.059752</td>\n",
              "      <td>378.66</td>\n",
              "      <td>0</td>\n",
              "    </tr>\n",
              "    <tr>\n",
              "      <th>3</th>\n",
              "      <td>1.0</td>\n",
              "      <td>-0.966272</td>\n",
              "      <td>-0.185226</td>\n",
              "      <td>1.792993</td>\n",
              "      <td>-0.863291</td>\n",
              "      <td>-0.010309</td>\n",
              "      <td>1.247203</td>\n",
              "      <td>0.237609</td>\n",
              "      <td>0.377436</td>\n",
              "      <td>-1.387024</td>\n",
              "      <td>-0.054952</td>\n",
              "      <td>-0.226487</td>\n",
              "      <td>0.178228</td>\n",
              "      <td>0.507757</td>\n",
              "      <td>-0.287924</td>\n",
              "      <td>-0.631418</td>\n",
              "      <td>-1.059647</td>\n",
              "      <td>-0.684093</td>\n",
              "      <td>1.965775</td>\n",
              "      <td>-1.232622</td>\n",
              "      <td>-0.208038</td>\n",
              "      <td>-0.108300</td>\n",
              "      <td>0.005274</td>\n",
              "      <td>-0.190321</td>\n",
              "      <td>-1.175575</td>\n",
              "      <td>0.647376</td>\n",
              "      <td>-0.221929</td>\n",
              "      <td>0.062723</td>\n",
              "      <td>0.061458</td>\n",
              "      <td>123.50</td>\n",
              "      <td>0</td>\n",
              "    </tr>\n",
              "    <tr>\n",
              "      <th>4</th>\n",
              "      <td>2.0</td>\n",
              "      <td>-1.158233</td>\n",
              "      <td>0.877737</td>\n",
              "      <td>1.548718</td>\n",
              "      <td>0.403034</td>\n",
              "      <td>-0.407193</td>\n",
              "      <td>0.095921</td>\n",
              "      <td>0.592941</td>\n",
              "      <td>-0.270533</td>\n",
              "      <td>0.817739</td>\n",
              "      <td>0.753074</td>\n",
              "      <td>-0.822843</td>\n",
              "      <td>0.538196</td>\n",
              "      <td>1.345852</td>\n",
              "      <td>-1.119670</td>\n",
              "      <td>0.175121</td>\n",
              "      <td>-0.451449</td>\n",
              "      <td>-0.237033</td>\n",
              "      <td>-0.038195</td>\n",
              "      <td>0.803487</td>\n",
              "      <td>0.408542</td>\n",
              "      <td>-0.009431</td>\n",
              "      <td>0.798278</td>\n",
              "      <td>-0.137458</td>\n",
              "      <td>0.141267</td>\n",
              "      <td>-0.206010</td>\n",
              "      <td>0.502292</td>\n",
              "      <td>0.219422</td>\n",
              "      <td>0.215153</td>\n",
              "      <td>69.99</td>\n",
              "      <td>0</td>\n",
              "    </tr>\n",
              "  </tbody>\n",
              "</table>\n",
              "</div>"
            ],
            "text/plain": [
              "   Time        V1        V2        V3  ...       V27       V28  Amount  Class\n",
              "0   0.0 -1.359807 -0.072781  2.536347  ...  0.133558 -0.021053  149.62      0\n",
              "1   0.0  1.191857  0.266151  0.166480  ... -0.008983  0.014724    2.69      0\n",
              "2   1.0 -1.358354 -1.340163  1.773209  ... -0.055353 -0.059752  378.66      0\n",
              "3   1.0 -0.966272 -0.185226  1.792993  ...  0.062723  0.061458  123.50      0\n",
              "4   2.0 -1.158233  0.877737  1.548718  ...  0.219422  0.215153   69.99      0\n",
              "\n",
              "[5 rows x 31 columns]"
            ]
          },
          "metadata": {
            "tags": []
          },
          "execution_count": 6
        }
      ]
    },
    {
      "cell_type": "markdown",
      "metadata": {
        "id": "iburNggs4O1J"
      },
      "source": [
        "# Statistics"
      ]
    },
    {
      "cell_type": "markdown",
      "metadata": {
        "id": "Prlls0osQcbP"
      },
      "source": [
        "**Correlation**\n",
        "\n",
        "The correlation matrix helps to see if there is any strong correlation between variables in the dataset and tell us whether or not we need to remove any of them. Also, we can determine the significant features of the overall classification. Most of the values are fairly unrelated to the others (close to zero). As an example, the correlation between (amount, V2), (amount, V4), and (time, V3) are (-0.53), (0.4), and (-0.42), respectively. But, they do not have strange behavior, and there is no need to pull out any columns\n",
        "\n",
        "\n",
        "\n",
        "\n"
      ]
    },
    {
      "cell_type": "code",
      "metadata": {
        "id": "oYRlQvHluZyX"
      },
      "source": [
        "# # Correlation matrix has correlation variable between -1 and +1. \n",
        "# # More close to -1, +1 shows more correlation. \n",
        "# # more close to zero and far away from -1 and +1 shows less correlation\n",
        "#  corrmat = data.corr()\n",
        "# fig = plt.figure(figsize=(12, 9))\n",
        "\n",
        "# sns.heatmap(corrmat, vmax=0.8, square=True)\n",
        "# plt.show()"
      ],
      "execution_count": null,
      "outputs": []
    },
    {
      "cell_type": "markdown",
      "metadata": {
        "id": "2yomBiy94il1"
      },
      "source": [
        "**Numerical Summary**"
      ]
    },
    {
      "cell_type": "code",
      "metadata": {
        "id": "vW6JzmUp4pc2",
        "colab": {
          "base_uri": "https://localhost:8080/",
          "height": 297
        },
        "outputId": "18fb1cdf-6ddb-4dd4-aa17-269744f192e9"
      },
      "source": [
        "pd.set_option('precision', 3)\n",
        "data.loc[:, ['Time', 'Amount']].describe()"
      ],
      "execution_count": null,
      "outputs": [
        {
          "output_type": "execute_result",
          "data": {
            "text/html": [
              "<div>\n",
              "<style scoped>\n",
              "    .dataframe tbody tr th:only-of-type {\n",
              "        vertical-align: middle;\n",
              "    }\n",
              "\n",
              "    .dataframe tbody tr th {\n",
              "        vertical-align: top;\n",
              "    }\n",
              "\n",
              "    .dataframe thead th {\n",
              "        text-align: right;\n",
              "    }\n",
              "</style>\n",
              "<table border=\"1\" class=\"dataframe\">\n",
              "  <thead>\n",
              "    <tr style=\"text-align: right;\">\n",
              "      <th></th>\n",
              "      <th>Time</th>\n",
              "      <th>Amount</th>\n",
              "    </tr>\n",
              "  </thead>\n",
              "  <tbody>\n",
              "    <tr>\n",
              "      <th>count</th>\n",
              "      <td>284807.000</td>\n",
              "      <td>284807.000</td>\n",
              "    </tr>\n",
              "    <tr>\n",
              "      <th>mean</th>\n",
              "      <td>94813.860</td>\n",
              "      <td>88.350</td>\n",
              "    </tr>\n",
              "    <tr>\n",
              "      <th>std</th>\n",
              "      <td>47488.146</td>\n",
              "      <td>250.120</td>\n",
              "    </tr>\n",
              "    <tr>\n",
              "      <th>min</th>\n",
              "      <td>0.000</td>\n",
              "      <td>0.000</td>\n",
              "    </tr>\n",
              "    <tr>\n",
              "      <th>25%</th>\n",
              "      <td>54201.500</td>\n",
              "      <td>5.600</td>\n",
              "    </tr>\n",
              "    <tr>\n",
              "      <th>50%</th>\n",
              "      <td>84692.000</td>\n",
              "      <td>22.000</td>\n",
              "    </tr>\n",
              "    <tr>\n",
              "      <th>75%</th>\n",
              "      <td>139320.500</td>\n",
              "      <td>77.165</td>\n",
              "    </tr>\n",
              "    <tr>\n",
              "      <th>max</th>\n",
              "      <td>172792.000</td>\n",
              "      <td>25691.160</td>\n",
              "    </tr>\n",
              "  </tbody>\n",
              "</table>\n",
              "</div>"
            ],
            "text/plain": [
              "             Time      Amount\n",
              "count  284807.000  284807.000\n",
              "mean    94813.860      88.350\n",
              "std     47488.146     250.120\n",
              "min         0.000       0.000\n",
              "25%     54201.500       5.600\n",
              "50%     84692.000      22.000\n",
              "75%    139320.500      77.165\n",
              "max    172792.000   25691.160"
            ]
          },
          "metadata": {
            "tags": []
          },
          "execution_count": 8
        }
      ]
    },
    {
      "cell_type": "markdown",
      "metadata": {
        "id": "LPi56nqw40Gc"
      },
      "source": [
        "**Pairplot of Features**\n",
        "\n",
        "![PairPlot](https://doc-10-34-docs.googleusercontent.com/docs/securesc/fkbibk97vkudhv15adtlumcgh2ok1gg4/5gefsnm1dbcqet3hjph30q36ikll3325/1576850400000/02591992915189960597/02591992915189960597/1q-gaSFy0kE_tP3qrypb1wMKAUCQOraPC?authuser=0&nonce=tj5qcn4806i1i&user=02591992915189960597&hash=aa44ivpr0fcjf689vcfsbv3su796ll7i)"
      ]
    },
    {
      "cell_type": "code",
      "metadata": {
        "id": "yu9mb3QKHq-1"
      },
      "source": [
        "# url = 'https://drive.google.com/uc?id=xxx'\n",
        "# output = 'pairplot.png'\n",
        "# gdown.download(url, output, quiet=False)"
      ],
      "execution_count": null,
      "outputs": []
    },
    {
      "cell_type": "code",
      "metadata": {
        "id": "7akizr_3gxqS"
      },
      "source": [
        "# Pair plot \n",
        "#sns.pairplot(data, hue='Class')"
      ],
      "execution_count": null,
      "outputs": []
    },
    {
      "cell_type": "markdown",
      "metadata": {
        "id": "BurWEtFURtRy"
      },
      "source": [
        "**Fraud/Non-Fraud Transactions**"
      ]
    },
    {
      "cell_type": "code",
      "metadata": {
        "id": "QUvwRjsOrbmx",
        "colab": {
          "base_uri": "https://localhost:8080/"
        },
        "outputId": "92ecc66e-a70c-4a3a-e2c7-ba77f868057e"
      },
      "source": [
        "fraud = data[data['Class'] == 1]\n",
        "nonfraud = data[data['Class'] == 0]\n",
        "print(f'Fraudulent:{len(fraud)}, non-fraudulent:{len(nonfraud)}')\n",
        "print(f'the positive class (frauds) percentage: {len(fraud)}/{len(fraud) + len(nonfraud)} ({len(fraud)/(len(fraud) + len(nonfraud))*100:.3f}%)')"
      ],
      "execution_count": null,
      "outputs": [
        {
          "output_type": "stream",
          "text": [
            "Fraudulent:492, non-fraudulent:284315\n",
            "the positive class (frauds) percentage: 492/284807 (0.173%)\n"
          ],
          "name": "stdout"
        }
      ]
    },
    {
      "cell_type": "code",
      "metadata": {
        "id": "WG5IRh8P3pcw",
        "colab": {
          "base_uri": "https://localhost:8080/",
          "height": 530
        },
        "outputId": "1e74b515-182f-40cb-9bd3-0147c575c4b6"
      },
      "source": [
        "plt.figure(figsize=(10,8))\n",
        "sns.barplot(x=data['Class'].value_counts().index, y=data['Class'].value_counts(),color='blue')\n",
        "plt.title('Fraudulent vs. Non-Fraudulent Transactions')\n",
        "plt.ylabel('Count')\n",
        "plt.xlabel('0:Non-Fraudulent, 1:Fraudulent')"
      ],
      "execution_count": null,
      "outputs": [
        {
          "output_type": "execute_result",
          "data": {
            "text/plain": [
              "Text(0.5, 0, '0:Non-Fraudulent, 1:Fraudulent')"
            ]
          },
          "metadata": {
            "tags": []
          },
          "execution_count": 12
        },
        {
          "output_type": "display_data",
          "data": {
            "image/png": "[encoded data removed]",
            "text/plain": [
              "<Figure size 720x576 with 1 Axes>"
            ]
          },
          "metadata": {
            "tags": [],
            "needs_background": "light"
          }
        }
      ]
    },
    {
      "cell_type": "markdown",
      "metadata": {
        "id": "rkCWBH1wR-n2"
      },
      "source": [
        "**Unblanaced Dataset**\n",
        "\n",
        "Imbalance data means that the number of data points available (Distribution) for different classes is significantly different. The CreditCard dataset is highly skewed data. It involves more data that are legitimated, and few of them (In this case, 0.173%) are not. But, the goal will be to capture as many of those disturbing fraudsters as possible.\n"
      ]
    },
    {
      "cell_type": "markdown",
      "metadata": {
        "id": "4nVUSLvVJWx2"
      },
      "source": [
        "# Preparation\n",
        "\n",
        "This part considers to handling the imbalanced issue. There are several techniques to solve this problem. One of them is Over-sampling the minority class (fraud). Second, Under-sampling the majority class (standard)."
      ]
    },
    {
      "cell_type": "code",
      "metadata": {
        "id": "Z9wxW-QUJY53",
        "colab": {
          "base_uri": "https://localhost:8080/"
        },
        "outputId": "ed52771c-c454-4087-c240-a8eaefc24c13"
      },
      "source": [
        "# Split up data to X (Drop the column Class), Y(Include only the column Class)\n",
        "data = data.drop(['Time'], axis=1)\n",
        "data['Amount'] = StandardScaler().fit_transform(data['Amount'].values.reshape(-1, 1))\n",
        "\n",
        "X = np.asarray(data.iloc[:, ~data.columns.isin(['Class'])])\n",
        "Y = np.asarray(data.iloc[:, data.columns == 'Class'])\n",
        "\n",
        "# # under sampling\n",
        "rus = RandomUnderSampler(ratio='auto', random_state=RANDOM_SEED, replacement=False)\n",
        "Xus, Yus = rus.fit_sample(X, Y.reshape(len(Y)))\n",
        "Xus, Yus = np.asarray(Xus), np.asarray(Yus)\n",
        "data_us = pd.DataFrame(np.hstack([Xus, np.expand_dims(Yus, -1)]))\n",
        "data_us.columns = data.columns\n",
        "\n",
        "# # over sampling\n",
        "sm = SMOTE(ratio='minority', random_state=RANDOM_SEED, kind='borderline1')\n",
        "Xos, Yos = sm.fit_sample(X, Y.reshape(len(Y)))\n",
        "Xos, Yos = np.asarray(Xos), np.asarray(Yos)\n",
        "data_os = pd.DataFrame(np.hstack([Xos, np.expand_dims(Yos, -1)]))\n",
        "data_os.columns = data.columns"
      ],
      "execution_count": null,
      "outputs": [
        {
          "output_type": "stream",
          "text": [
            "/usr/local/lib/python3.6/dist-packages/sklearn/utils/deprecation.py:87: FutureWarning: Function safe_indexing is deprecated; safe_indexing is deprecated in version 0.22 and will be removed in version 0.24.\n",
            "  warnings.warn(msg, category=FutureWarning)\n",
            "/usr/local/lib/python3.6/dist-packages/sklearn/utils/deprecation.py:87: FutureWarning: Function safe_indexing is deprecated; safe_indexing is deprecated in version 0.22 and will be removed in version 0.24.\n",
            "  warnings.warn(msg, category=FutureWarning)\n",
            "/usr/local/lib/python3.6/dist-packages/sklearn/utils/deprecation.py:87: FutureWarning: Function safe_indexing is deprecated; safe_indexing is deprecated in version 0.22 and will be removed in version 0.24.\n",
            "  warnings.warn(msg, category=FutureWarning)\n",
            "/usr/local/lib/python3.6/dist-packages/sklearn/utils/deprecation.py:87: FutureWarning: Function safe_indexing is deprecated; safe_indexing is deprecated in version 0.22 and will be removed in version 0.24.\n",
            "  warnings.warn(msg, category=FutureWarning)\n"
          ],
          "name": "stderr"
        }
      ]
    },
    {
      "cell_type": "code",
      "metadata": {
        "id": "CZOlRgC-ihyd",
        "colab": {
          "base_uri": "https://localhost:8080/"
        },
        "outputId": "2a4620d0-a3de-4813-be58-c85bea2a5037"
      },
      "source": [
        "# Checking\n",
        "print(len(data))\n",
        "print(len(data_us))\n",
        "print(len(data_os))"
      ],
      "execution_count": null,
      "outputs": [
        {
          "output_type": "stream",
          "text": [
            "284807\n",
            "984\n",
            "568630\n"
          ],
          "name": "stdout"
        }
      ]
    },
    {
      "cell_type": "markdown",
      "metadata": {
        "id": "WNIooXDUhbE9"
      },
      "source": [
        "\n",
        "# Utils\n",
        "\n",
        "For evaluating the performance, Accuracy, Recall, Precision, and F1 metrics have been chosen.\n",
        "\n",
        "1. True Positive (TP): a fraudulent transaction class, the model predicts it as fraudulent.\n",
        "2. True Negative (TN): a normal transaction class, the model predicts it as normal.\n",
        "3. False positive (FP): a fraudulent transaction, the model predicts it as normal.\n",
        "4. False Negative (FN): a normal transaction, the model predicts it as fraudulent\n",
        "\n",
        "**Accuracy**\n",
        "\n",
        "Accuracy is a ratio of correctly predicted observation of the total views. It has not a good performance on an Imbalanced dataset (more data are legitimate, and few of them are not [0.173%] ). Then we get high accuracy even though the classifier has not learned anything about the classification problem (fraud detection) at hand! \n",
        "But, when you have symmetric datasets, it is a good metric.\n",
        "$$ACC = \\frac{TP+TN}{TP+TN+FP+FN}$$\n",
        "\n",
        "\n",
        "**Recall**\n",
        "\n",
        "The recall is the ratio of correctly predicted (identified) positive observations out of the fraudulent transaction. \n",
        "$$Recall = \\frac{TP}{TP+FN}$$\n",
        "\n",
        "**Precision**\n",
        "\n",
        "Precision is the ratio of correctly predicted positive observations of the total predicted transaction. (what percentage were fraudulent) \n",
        "$$Precision = \\frac{TP}{TP+FP}$$\n",
        "\n",
        "**F1 Score**\n",
        "\n",
        "F1 score is the weighted average of Precision and Recall. Therefore, this score takes both false positives and false negatives into account.\n",
        "\n",
        "$$F1 = 2 * \\frac{Recall * Precision}{Recall+Precision}$$\n",
        "\n",
        "\n",
        "F1 Score is usually more useful than accuracy, especially if you have an uneven class distribution (imbalanced data). Accuracy works best if false positives and false negatives have a similar cost. If the value of false positives and false negatives are very different, it’s better to look at both Precision and Recall. \n"
      ]
    },
    {
      "cell_type": "code",
      "metadata": {
        "id": "TO02sMRIBf1R"
      },
      "source": [
        "def evaluation(y_true, y_pred):\n",
        "    accuracy = accuracy_score(y_true, y_pred)\n",
        "    precision = precision_score(y_true, y_pred)\n",
        "    recall = recall_score(y_true, y_pred)\n",
        "    f1 = f1_score(y_true, y_pred)\n",
        "\n",
        "    print('         Accuracy:', accuracy)\n",
        "    print('  Precision Score:', precision)\n",
        "    print('     Recall Score:', recall)\n",
        "    print('         F1 Score:', f1)\n",
        "\n",
        "    return {\n",
        "        'Accuracy': accuracy,\n",
        "        'Precision': precision,\n",
        "        'Recall': recall,\n",
        "        'F1': f1\n",
        "    }"
      ],
      "execution_count": null,
      "outputs": []
    },
    {
      "cell_type": "markdown",
      "metadata": {
        "id": "20e5zOwThIcV"
      },
      "source": [
        "# Task 1 <small>(Supervised)</small>"
      ]
    },
    {
      "cell_type": "markdown",
      "metadata": {
        "id": "LVXUqzD4_yox"
      },
      "source": [
        "**Neural Network (NN) intuition**\n",
        "\n",
        "An artificial neuron often referred to as a node or perceptron, which can be interconnected with multiple perceptrons, much like synapses, to create a neural network.\n",
        "\n",
        "**Architecture**\n",
        "\n",
        "In the first part, the dataset was studied and standardized the Amount column of the transaction — also, under-sampling and over-sampling used on the dataset to handle the unbalanced data. Then split them to train and test sets.\n",
        "\n",
        "The second part, built the three-layer perceptrons neural network with the following hyperparameters: the \"relu\" activation function for two inners unites and \"softmax\" for output unit. Adam and SparseCategoricalCrossentropy set for the optimizer and the loss part. The third part fit the model by the following config. \n",
        "\n",
        "Finally, evaluate and predict the model on the test set. The performance of the model for all metrics ( Accuracy, Recall, Precision, and F1 score) is 99% approximately. \n",
        "\n",
        "\n",
        "\n",
        "**Visualization**\n",
        "\n",
        "The Precision/Recall (PR)  plot has a sensitivity (= recall) x-axis that identifies the number of minority classes. Moreover, the y-axis is a positive predictive value (= precision) that tells how sure it can be when we have a positive result (the class is a fraud). The perfect test result passes through the upper right corner (corresponding to 100 % precision and 100 % recall). \n",
        "\n",
        "The Receiver Operating Characteristic (ROC) is a probability curve, and Area Under The Curve (AUC) represents the degree or measure of separability. Higher AUC (near to the 1) means the model is better performance at predicting 0s as 0s and 1s as 1s. Two curves do not overlap at all means model has an ideal measure of separability. It is perfectly able to distinguish between positive class and negative class. The perfect test will have a ROC curve that passes through the upper left corner (corresponding to 100 % (TPR) and 100 % (FPR))."
      ]
    },
    {
      "cell_type": "code",
      "metadata": {
        "id": "yR4rrgTHKJ7w",
        "colab": {
          "base_uri": "https://localhost:8080/"
        },
        "outputId": "916826e8-3bc5-4c95-b2d6-c75c1ca9cd14"
      },
      "source": [
        "_data = data_os  \n",
        "_X = np.asarray(_data.iloc[:, ~_data.columns.isin(['Class'])])\n",
        "_Y = np.asarray(_data.iloc[:, _data.columns == 'Class'])\n",
        "\n",
        "x_train, x_test, y_train, y_test = train_test_split(_X, _Y, test_size=0.01)\n",
        "\n",
        "print('Train %s, Test %s' % (len(x_train), len(x_test)))"
      ],
      "execution_count": null,
      "outputs": [
        {
          "output_type": "stream",
          "text": [
            "Train 562943, Test 5687\n"
          ],
          "name": "stdout"
        }
      ]
    },
    {
      "cell_type": "code",
      "metadata": {
        "colab": {
          "base_uri": "https://localhost:8080/"
        },
        "id": "Ogh2WPptB7e3",
        "outputId": "87b4f7fb-039b-4669-d623-6addb61666b9"
      },
      "source": [
        "x_train.shape"
      ],
      "execution_count": null,
      "outputs": [
        {
          "output_type": "execute_result",
          "data": {
            "text/plain": [
              "(562943, 29)"
            ]
          },
          "metadata": {
            "tags": []
          },
          "execution_count": 22
        }
      ]
    },
    {
      "cell_type": "code",
      "metadata": {
        "id": "4n18yUWhV0Kk"
      },
      "source": [
        "def mlp_model(input_dim, output_dim, hidden_struct, lr, act='relu'): \n",
        "    # procedure\n",
        "    #   inputs\n",
        "    inputs = tf.keras.layers.Input(shape=[input_dim], name='inputs')\n",
        "    #   hidden layers\n",
        "    x = inputs\n",
        "    for i, hidden in enumerate(hidden_struct):\n",
        "        if len(hidden) == 2:\n",
        "            units, act = hidden\n",
        "        else:\n",
        "            units, act = hidden[0], act\n",
        "\n",
        "        x = tf.keras.layers.Dense(units, activation=act,  name='hidden_layer_%s' % i)(x)\n",
        "\n",
        "    #   outputs [prediction/classifcation/labeling]\n",
        "    outputs = tf.keras.layers.Dense(output_dim, activation='softmax', name='prediction')(x)\n",
        "\n",
        "\n",
        "    # model\n",
        "    model = tf.keras.Model(inputs=inputs, outputs=outputs, name='mlp')\n",
        "\n",
        "    # compile\n",
        "    opt = tf.keras.optimizers.Adam(lr=lr)\n",
        "    loss = tf.keras.losses.SparseCategoricalCrossentropy(name='loss')\n",
        "    metrics = [\n",
        "        tf.keras.metrics.SparseCategoricalAccuracy(name='accuracy'),\n",
        "    ]\n",
        "    model.compile(optimizer=opt, loss=loss, metrics=metrics)\n",
        "\n",
        "    return model"
      ],
      "execution_count": null,
      "outputs": []
    },
    {
      "cell_type": "code",
      "metadata": {
        "id": "_wMh4XDfR4KT",
        "colab": {
          "base_uri": "https://localhost:8080/"
        },
        "outputId": "4a622ff7-cbff-4f73-ea6e-10af433954ee"
      },
      "source": [
        "hidden_struct = [\n",
        "    (16, 'relu'),\n",
        "    (8, 'relu')\n",
        "]\n",
        "model = mlp_model(x_train.shape[1], 2, hidden_struct=hidden_struct, lr=1e-3)\n",
        "model.summary()"
      ],
      "execution_count": null,
      "outputs": [
        {
          "output_type": "stream",
          "text": [
            "Model: \"mlp\"\n",
            "_________________________________________________________________\n",
            "Layer (type)                 Output Shape              Param #   \n",
            "=================================================================\n",
            "inputs (InputLayer)          [(None, 29)]              0         \n",
            "_________________________________________________________________\n",
            "hidden_layer_0 (Dense)       (None, 16)                480       \n",
            "_________________________________________________________________\n",
            "hidden_layer_1 (Dense)       (None, 8)                 136       \n",
            "_________________________________________________________________\n",
            "prediction (Dense)           (None, 2)                 18        \n",
            "=================================================================\n",
            "Total params: 634\n",
            "Trainable params: 634\n",
            "Non-trainable params: 0\n",
            "_________________________________________________________________\n"
          ],
          "name": "stdout"
        }
      ]
    },
    {
      "cell_type": "code",
      "metadata": {
        "id": "omXO-VOljVat",
        "colab": {
          "base_uri": "https://localhost:8080/"
        },
        "outputId": "b4d7ade5-415c-42c0-cf8f-0977b54ac8f3"
      },
      "source": [
        "r = model.fit(\n",
        "    x_train, y_train,\n",
        "    validation_split=0.01,\n",
        "    batch_size=256,\n",
        "    epochs=30,\n",
        "    verbose=1\n",
        ")"
      ],
      "execution_count": null,
      "outputs": [
        {
          "output_type": "stream",
          "text": [
            "Epoch 1/30\n",
            "2178/2178 [==============================] - 5s 2ms/step - loss: 0.0591 - accuracy: 0.9789 - val_loss: 0.0215 - val_accuracy: 0.9954\n",
            "Epoch 2/30\n",
            "2178/2178 [==============================] - 5s 2ms/step - loss: 0.0083 - accuracy: 0.9984 - val_loss: 0.0145 - val_accuracy: 0.9979\n",
            "Epoch 3/30\n",
            "2178/2178 [==============================] - 5s 2ms/step - loss: 0.0057 - accuracy: 0.9991 - val_loss: 0.0089 - val_accuracy: 0.9988\n",
            "Epoch 4/30\n",
            "2178/2178 [==============================] - 5s 2ms/step - loss: 0.0047 - accuracy: 0.9993 - val_loss: 0.0087 - val_accuracy: 0.9988\n",
            "Epoch 5/30\n",
            "2178/2178 [==============================] - 5s 2ms/step - loss: 0.0040 - accuracy: 0.9994 - val_loss: 0.0075 - val_accuracy: 0.9988\n",
            "Epoch 6/30\n",
            "2178/2178 [==============================] - 5s 2ms/step - loss: 0.0037 - accuracy: 0.9995 - val_loss: 0.0071 - val_accuracy: 0.9988\n",
            "Epoch 7/30\n",
            "2178/2178 [==============================] - 5s 2ms/step - loss: 0.0033 - accuracy: 0.9995 - val_loss: 0.0076 - val_accuracy: 0.9988\n",
            "Epoch 8/30\n",
            "2178/2178 [==============================] - 5s 2ms/step - loss: 0.0029 - accuracy: 0.9995 - val_loss: 0.0059 - val_accuracy: 0.9991\n",
            "Epoch 9/30\n",
            "2178/2178 [==============================] - 5s 2ms/step - loss: 0.0028 - accuracy: 0.9996 - val_loss: 0.0057 - val_accuracy: 0.9993\n",
            "Epoch 10/30\n",
            "2178/2178 [==============================] - 5s 2ms/step - loss: 0.0025 - accuracy: 0.9996 - val_loss: 0.0051 - val_accuracy: 0.9993\n",
            "Epoch 11/30\n",
            "2178/2178 [==============================] - 5s 2ms/step - loss: 0.0023 - accuracy: 0.9996 - val_loss: 0.0066 - val_accuracy: 0.9989\n",
            "Epoch 12/30\n",
            "2178/2178 [==============================] - 5s 2ms/step - loss: 0.0022 - accuracy: 0.9996 - val_loss: 0.0047 - val_accuracy: 0.9995\n",
            "Epoch 13/30\n",
            "2178/2178 [==============================] - 5s 2ms/step - loss: 0.0021 - accuracy: 0.9996 - val_loss: 0.0039 - val_accuracy: 0.9993\n",
            "Epoch 14/30\n",
            "2178/2178 [==============================] - 5s 2ms/step - loss: 0.0020 - accuracy: 0.9997 - val_loss: 0.0063 - val_accuracy: 0.9993\n",
            "Epoch 15/30\n",
            "2178/2178 [==============================] - 5s 2ms/step - loss: 0.0019 - accuracy: 0.9997 - val_loss: 0.0062 - val_accuracy: 0.9995\n",
            "Epoch 16/30\n",
            "2178/2178 [==============================] - 5s 2ms/step - loss: 0.0018 - accuracy: 0.9997 - val_loss: 0.0043 - val_accuracy: 0.9993\n",
            "Epoch 17/30\n",
            "2178/2178 [==============================] - 5s 2ms/step - loss: 0.0017 - accuracy: 0.9997 - val_loss: 0.0047 - val_accuracy: 0.9995\n",
            "Epoch 18/30\n",
            "2178/2178 [==============================] - 5s 2ms/step - loss: 0.0018 - accuracy: 0.9997 - val_loss: 0.0041 - val_accuracy: 0.9993\n",
            "Epoch 19/30\n",
            "2178/2178 [==============================] - 5s 2ms/step - loss: 0.0016 - accuracy: 0.9997 - val_loss: 0.0039 - val_accuracy: 0.9993\n",
            "Epoch 20/30\n",
            "2178/2178 [==============================] - 5s 2ms/step - loss: 0.0016 - accuracy: 0.9997 - val_loss: 0.0033 - val_accuracy: 0.9993\n",
            "Epoch 21/30\n",
            "2178/2178 [==============================] - 5s 2ms/step - loss: 0.0015 - accuracy: 0.9997 - val_loss: 0.0045 - val_accuracy: 0.9993\n",
            "Epoch 22/30\n",
            "2178/2178 [==============================] - 5s 2ms/step - loss: 0.0015 - accuracy: 0.9998 - val_loss: 0.0038 - val_accuracy: 0.9991\n",
            "Epoch 23/30\n",
            "2178/2178 [==============================] - 5s 2ms/step - loss: 0.0014 - accuracy: 0.9998 - val_loss: 0.0039 - val_accuracy: 0.9991\n",
            "Epoch 24/30\n",
            "2178/2178 [==============================] - 5s 2ms/step - loss: 0.0014 - accuracy: 0.9998 - val_loss: 0.0079 - val_accuracy: 0.9963\n",
            "Epoch 25/30\n",
            "2178/2178 [==============================] - 4s 2ms/step - loss: 0.0014 - accuracy: 0.9998 - val_loss: 0.0027 - val_accuracy: 0.9993\n",
            "Epoch 26/30\n",
            "2178/2178 [==============================] - 5s 2ms/step - loss: 0.0013 - accuracy: 0.9998 - val_loss: 0.0032 - val_accuracy: 0.9993\n",
            "Epoch 27/30\n",
            "2178/2178 [==============================] - 5s 2ms/step - loss: 0.0013 - accuracy: 0.9998 - val_loss: 0.0041 - val_accuracy: 0.9991\n",
            "Epoch 28/30\n",
            "2178/2178 [==============================] - 4s 2ms/step - loss: 0.0013 - accuracy: 0.9998 - val_loss: 0.0034 - val_accuracy: 0.9991\n",
            "Epoch 29/30\n",
            "2178/2178 [==============================] - 5s 2ms/step - loss: 0.0013 - accuracy: 0.9998 - val_loss: 0.0033 - val_accuracy: 0.9991\n",
            "Epoch 30/30\n",
            "2178/2178 [==============================] - 5s 2ms/step - loss: 0.0012 - accuracy: 0.9998 - val_loss: 0.0039 - val_accuracy: 0.9991\n"
          ],
          "name": "stdout"
        }
      ]
    },
    {
      "cell_type": "code",
      "metadata": {
        "id": "PLIgo3L0sHaL",
        "colab": {
          "base_uri": "https://localhost:8080/",
          "height": 420
        },
        "outputId": "2d42ab0b-9857-494d-edec-83debc85df33"
      },
      "source": [
        "# Loss/Accuracy\n",
        "\n",
        "xs = sorted([item for item in r.history.keys() if 'val' not in item])\n",
        "ys = sorted([item for item in r.history.keys() if 'val' in item])\n",
        "epochs = list(range(len(r.history['accuracy'])))\n",
        "print(xs)\n",
        "print(ys)\n",
        "print()\n",
        "\n",
        "nrows = 1\n",
        "ncols = round(len(xs) // nrows)\n",
        "\n",
        "fig = plt.figure(figsize=(10, 5))\n",
        "axes = []\n",
        "\n",
        "for i, (x1, x2) in enumerate(zip(xs, ys)):\n",
        "    ax = fig.add_subplot(nrows, ncols, i+1)\n",
        "    ax.plot(epochs, r.history[x1], label='Train')\n",
        "    ax.plot(epochs, r.history[x2], label='Valid')\n",
        "    ax.set_xlabel('epochs')\n",
        "    ax.set_ylabel(x1.replace('_metric', ''))\n",
        "    ax.legend()\n",
        "    axes.append(ax)\n",
        "\n",
        "plt.tight_layout()\n",
        "plt.show()"
      ],
      "execution_count": null,
      "outputs": [
        {
          "output_type": "stream",
          "text": [
            "['accuracy', 'loss']\n",
            "['val_accuracy', 'val_loss']\n",
            "\n"
          ],
          "name": "stdout"
        },
        {
          "output_type": "display_data",
          "data": {
            "image/png": "[encoded data removed]",
            "text/plain": [
              "<Figure size 720x360 with 2 Axes>"
            ]
          },
          "metadata": {
            "tags": [],
            "needs_background": "light"
          }
        }
      ]
    },
    {
      "cell_type": "code",
      "metadata": {
        "id": "EGe1UGgVvCpS",
        "colab": {
          "base_uri": "https://localhost:8080/"
        },
        "outputId": "237124c0-e712-4300-aab1-d0d3675ac8b3"
      },
      "source": [
        "# Evaluation\n",
        "ev = model.evaluate(x_test, y_test)\n",
        "print()\n",
        "print('Evaluation:')\n",
        "print('===' * 15)\n",
        "print(ev)\n",
        "print()\n",
        "\n",
        "y_pred_test = model.predict(x_test)\n",
        "print('Prediction:')\n",
        "print('===' * 15)\n",
        "res_mlp = evaluation(y_test, y_pred_test.argmax(axis=-1))"
      ],
      "execution_count": null,
      "outputs": [
        {
          "output_type": "stream",
          "text": [
            "178/178 [==============================] - 0s 2ms/step - loss: 0.0029 - accuracy: 0.9998\n",
            "\n",
            "Evaluation:\n",
            "=============================================\n",
            "[0.002913933014497161, 0.9998241662979126]\n",
            "\n",
            "Prediction:\n",
            "=============================================\n",
            "         Accuracy: 0.9998241603657464\n",
            "  Precision Score: 0.9996516893068618\n",
            "     Recall Score: 1.0\n",
            "         F1 Score: 0.999825814318063\n"
          ],
          "name": "stdout"
        }
      ]
    },
    {
      "cell_type": "code",
      "metadata": {
        "id": "-TIwPl7YzPzM"
      },
      "source": [
        "# Precision/Recall Plot\n",
        "\n",
        "def plot_precision_recall(y_true, y_pred_prob):\n",
        "\n",
        "    thresholds = [0.1, 0.2, 0.3, 0.4, 0.5, 0.6, 0.70, 0.75, 0.8, 0.9, 0,95]\n",
        "    colors = cycle(['navy', 'turquoise', 'darkorange', 'cornflowerblue', 'teal', 'red', 'yellow', 'green', 'blue', 'black'])\n",
        "\n",
        "    plt.figure(figsize=(5, 5))\n",
        "\n",
        "    j = 1\n",
        "    for i, color in zip(thresholds, colors):\n",
        "        y_test_predictions_prob = y_pred_prob[:, 1] > i\n",
        "\n",
        "        precision, recall, thresholds = precision_recall_curve(y_test, y_test_predictions_prob)\n",
        "\n",
        "        # Plot Precision-Recall curve\n",
        "        plt.plot(recall, precision, color=color, label='Threshold: %s' % i)\n",
        "        plt.xlabel('RECALL')\n",
        "        plt.ylabel('PRECISION')\n",
        "        plt.ylim([0.0, 1.05])\n",
        "        plt.xlim([0.0, 1.0])\n",
        "        plt.title('Precision-Recall Plot')\n",
        "        plt.legend(loc=\"lower left\")\n",
        "    plt.show()"
      ],
      "execution_count": null,
      "outputs": []
    },
    {
      "cell_type": "code",
      "metadata": {
        "id": "-UKAUTbu1-8H",
        "colab": {
          "base_uri": "https://localhost:8080/",
          "height": 350
        },
        "outputId": "51ee973e-4246-4f31-c6b8-54f162830278"
      },
      "source": [
        "plot_precision_recall(y_test, y_pred_test)"
      ],
      "execution_count": null,
      "outputs": [
        {
          "output_type": "display_data",
          "data": {
            "image/png": "[encoded data removed]",
            "text/plain": [
              "<Figure size 360x360 with 1 Axes>"
            ]
          },
          "metadata": {
            "tags": [],
            "needs_background": "light"
          }
        }
      ]
    },
    {
      "cell_type": "code",
      "metadata": {
        "id": "eXDT8YqA2eBr"
      },
      "source": [
        "# AUC/ROC Plot\n",
        "\n",
        "def plot_auc_roc_curve(y_true, y_pred):\n",
        "\n",
        "    fpr, tpr, thresholds = roc_curve(y_true, y_pred)\n",
        "    roc_auc = auc(fpr, tpr)\n",
        "\n",
        "    plt.title('Receiver Operating Characteristic')\n",
        "    plt.plot(fpr, tpr, 'b', label='AUC = %0.2f' % roc_auc)\n",
        "    plt.legend(loc='lower right')\n",
        "    plt.plot([0, 1], [0, 1], 'r--')\n",
        "    plt.xlim([-0.1, 1.0])\n",
        "    plt.ylim([-0.1, 1.01])\n",
        "    plt.ylabel('True Positive Rate')\n",
        "    plt.xlabel('False Positive Rate')\n",
        "    plt.show()\n",
        "    return roc_auc"
      ],
      "execution_count": null,
      "outputs": []
    },
    {
      "cell_type": "code",
      "metadata": {
        "id": "RmrPWmi03tqz",
        "colab": {
          "base_uri": "https://localhost:8080/",
          "height": 312
        },
        "outputId": "a9e6a5f5-bdb6-4422-8b30-2172dae81ae5"
      },
      "source": [
        "plot_auc_roc_curve(y_test, y_pred_test.argmax(axis=-1))"
      ],
      "execution_count": null,
      "outputs": [
        {
          "output_type": "display_data",
          "data": {
            "image/png": "[encoded data removed]",
            "text/plain": [
              "<Figure size 432x288 with 1 Axes>"
            ]
          },
          "metadata": {
            "tags": [],
            "needs_background": "light"
          }
        },
        {
          "output_type": "execute_result",
          "data": {
            "text/plain": [
              "0.9998225062122826"
            ]
          },
          "metadata": {
            "tags": []
          },
          "execution_count": 32
        }
      ]
    },
    {
      "cell_type": "markdown",
      "metadata": {
        "id": "d_2QGZIhSTNn"
      },
      "source": [
        "The Precision-Recall Plot is more informative than ROC when it is implemented on a binary imbalanced problem because ROC curves have a proper measurement when there are roughly equal numbers of observations for each class. Precision-Recall curves when there is a moderate to imbalance class."
      ]
    },
    {
      "cell_type": "markdown",
      "metadata": {
        "id": "tO7B-sBFNjNn"
      },
      "source": [
        "# Task 2 <small>(Unsupervised)</small>\n",
        "\n",
        "In this Task, IsolationForest, Kmeans, and Autoencoder were chosen. Among these algorithms, the Autoencoder showed better performance with a 26% F1 score."
      ]
    },
    {
      "cell_type": "markdown",
      "metadata": {
        "id": "xN442BTG2O6R"
      },
      "source": [
        "## IsolationForest\n",
        "\n",
        "IsolationForest is an efficient algorithm for outlier detection, especially in high-dimensional datasets. The algorithm builds a Random Forest in which each Decision Tree is grown randomly: at each node, and it picks a feature randomly, then it picks a random threshold value (between the min and max value) to split the dataset in two."
      ]
    },
    {
      "cell_type": "code",
      "metadata": {
        "id": "nDdVc4r-2V-n",
        "colab": {
          "base_uri": "https://localhost:8080/"
        },
        "outputId": "54bfb8ad-63e0-48e2-9698-1b9b7aa0f716"
      },
      "source": [
        "_data = data\n",
        "_X = np.asarray(_data.iloc[:, ~_data.columns.isin(['Class'])])\n",
        "_Y = np.asarray(_data.iloc[:, _data.columns == 'Class'])\n",
        "\n",
        "x_train, x_test, y_train, y_test = train_test_split(_X, _Y, test_size=0.1)\n",
        "n_x_train = x_train[np.where(y_train == 0)[0], :]\n",
        "\n",
        "print('Train %s, Test %s' % (len(x_train), len(x_test)))"
      ],
      "execution_count": null,
      "outputs": [
        {
          "output_type": "stream",
          "text": [
            "Train 256326, Test 28481\n"
          ],
          "name": "stdout"
        }
      ]
    },
    {
      "cell_type": "code",
      "metadata": {
        "id": "Y1ITPerCKqIp",
        "colab": {
          "base_uri": "https://localhost:8080/"
        },
        "outputId": "05f0f8a8-a3fd-41c6-be19-04fb7b87fa63"
      },
      "source": [
        "%%time\n",
        "\n",
        "isolation_forest = IsolationForest(random_state=RANDOM_SEED)\n",
        "isolation_forest.fit(n_x_train)"
      ],
      "execution_count": null,
      "outputs": [
        {
          "output_type": "stream",
          "text": [
            "CPU times: user 5.85 s, sys: 26.4 ms, total: 5.87 s\n",
            "Wall time: 5.87 s\n"
          ],
          "name": "stdout"
        }
      ]
    },
    {
      "cell_type": "code",
      "metadata": {
        "id": "JR6-tIAvKvgN"
      },
      "source": [
        "y_pred_test = isolation_forest.predict(x_test)\n",
        "y_pred_test[y_pred_test == 1] = 0\n",
        "y_pred_test[y_pred_test == -1] = 1"
      ],
      "execution_count": null,
      "outputs": []
    },
    {
      "cell_type": "code",
      "metadata": {
        "id": "ZHLgYwBkKzVg",
        "colab": {
          "base_uri": "https://localhost:8080/",
          "height": 84
        },
        "outputId": "e6ce654e-3152-4f83-d40f-acb26165dfa8"
      },
      "source": [
        "isof_res = evaluation(y_test, y_pred_test)"
      ],
      "execution_count": null,
      "outputs": [
        {
          "output_type": "stream",
          "text": [
            "         Accuracy: 0.9664688739861662\n",
            "  Precision Score: 0.05321285140562249\n",
            "     Recall Score: 0.8153846153846154\n",
            "         F1 Score: 0.0999057492931197\n"
          ],
          "name": "stdout"
        }
      ]
    },
    {
      "cell_type": "markdown",
      "metadata": {
        "id": "P0gcHcwX2XlY"
      },
      "source": [
        "## Kmeans\n",
        "\n",
        "The Cluster is a collection of data objects that Similar to one another. kmeans is an algorithm that partitions or clusters N data points into K. \n",
        "\n",
        "**K-means** is,\n",
        "* Partitional Clustering Approach\n",
        "* K points are used to represent clustering result\n",
        "* Each point corresponds to the center (Mean) of a cluster\n",
        "* The number K, must be specified\n"
      ]
    },
    {
      "cell_type": "code",
      "metadata": {
        "id": "xarKODRT2d5A"
      },
      "source": [
        "_data = data\n",
        "_X = np.asarray(_data.iloc[:, ~_data.columns.isin(['Class'])])\n",
        "_Y = np.asarray(_data.iloc[:, _data.columns == 'Class'])\n",
        "\n",
        "_Xscaled = scale(_X)\n",
        "# pca = PCA(n_components=2)\n",
        "# _Xreducted = pca.fit_transform(_Xscaled)\n",
        "\n",
        "x_train, x_test, y_train, y_test = train_test_split(_Xscaled, _Y, test_size=0.1)\n",
        "n_x_train = x_train[np.where(y_train == 0)[0], :]"
      ],
      "execution_count": null,
      "outputs": []
    },
    {
      "cell_type": "code",
      "metadata": {
        "id": "2Ji8up-iP2u5",
        "colab": {
          "base_uri": "https://localhost:8080/",
          "height": 50
        },
        "outputId": "7eb4b8e4-ec31-4e3f-ef72-a99503cf4be1"
      },
      "source": [
        "%%time \n",
        "\n",
        "n_clusters = len(np.unique(y_train))\n",
        "kmeans = KMeans(init='k-means++', n_clusters=n_clusters)\n",
        "kmeans.fit(n_x_train)"
      ],
      "execution_count": null,
      "outputs": [
        {
          "output_type": "stream",
          "text": [
            "CPU times: user 7.63 s, sys: 1.09 s, total: 8.72 s\n",
            "Wall time: 7.33 s\n"
          ],
          "name": "stdout"
        }
      ]
    },
    {
      "cell_type": "code",
      "metadata": {
        "id": "XdMC6hpbQBJ5"
      },
      "source": [
        "y_pred_test = kmeans.predict(x_test)"
      ],
      "execution_count": null,
      "outputs": []
    },
    {
      "cell_type": "code",
      "metadata": {
        "id": "NGyqD8d3QEZe",
        "colab": {
          "base_uri": "https://localhost:8080/",
          "height": 84
        },
        "outputId": "2443ab7d-a54b-4def-adeb-233e40c3d929"
      },
      "source": [
        "kmeans_res = evaluation(y_test, y_pred_test)"
      ],
      "execution_count": null,
      "outputs": [
        {
          "output_type": "stream",
          "text": [
            "         Accuracy: 0.47607176714300764\n",
            "  Precision Score: 0.001341111781667002\n",
            "     Recall Score: 0.40816326530612246\n",
            "         F1 Score: 0.0026734393797620644\n"
          ],
          "name": "stdout"
        }
      ]
    },
    {
      "cell_type": "markdown",
      "metadata": {
        "id": "0sYBrhuZvQ9I"
      },
      "source": [
        "## Autoencoder\n",
        "\n",
        "An autoencoder is a neural network that learns by encoding its input data to a lower or higher dimension in a hidden layer and tries to decode back to the original input. This process is called reconstruction."
      ]
    },
    {
      "cell_type": "code",
      "metadata": {
        "id": "6Qm_3oUz2nbW",
        "colab": {
          "base_uri": "https://localhost:8080/"
        },
        "outputId": "a93362d4-f91e-4ef2-9fb9-3a7750279851"
      },
      "source": [
        "_data = data\n",
        "_X = np.asarray(_data.iloc[:, ~_data.columns.isin(['Class'])])\n",
        "_Y = np.asarray(_data.iloc[:, _data.columns == 'Class'])\n",
        "\n",
        "\n",
        "x_train, x_test, y_train, y_test = train_test_split(_X, _Y, test_size=0.1)\n",
        "\n",
        "n_x_train = x_train[np.where(y_train == 0)[0], :]\n",
        "\n",
        "print(x_train.shape, n_x_train.shape, y_train.shape)\n",
        "print(_Y.shape)"
      ],
      "execution_count": null,
      "outputs": [
        {
          "output_type": "stream",
          "text": [
            "(256326, 30) (255889, 30) (256326, 1)\n",
            "(284807, 1)\n"
          ],
          "name": "stdout"
        }
      ]
    },
    {
      "cell_type": "code",
      "metadata": {
        "id": "o0IeNdNZR87s",
        "colab": {
          "base_uri": "https://localhost:8080/"
        },
        "outputId": "2f9bd6b7-2ee9-4a4e-c60a-8f0a918f8f74"
      },
      "source": [
        "n_x_train.shape[1]"
      ],
      "execution_count": null,
      "outputs": [
        {
          "output_type": "execute_result",
          "data": {
            "text/plain": [
              "30"
            ]
          },
          "metadata": {
            "tags": []
          },
          "execution_count": 8
        }
      ]
    },
    {
      "cell_type": "code",
      "metadata": {
        "id": "ygnJeXDrT0RI"
      },
      "source": [
        " def ae_model(input_dim, encoder_struct, decoder_struct, lr, act=\"relu\"):\n",
        "    #  inputs\n",
        "    inputs = tf.keras.layers.Input(shape=[input_dim], name='inputs')\n",
        "    #  hidden layers\n",
        "    x = inputs\n",
        "    for i, hidden in enumerate(encoder_struct):\n",
        "        if len(encoder_struct) == 2:\n",
        "            units, act = hidden\n",
        "        else:\n",
        "            units, act = hidden[0], act\n",
        "        x = tf.keras.layers.Dense(units, activation=act, name='encoder_layers_%s' %i)(x)\n",
        "\n",
        "    for i, hidden in enumerate(decoder_struct):\n",
        "        if len(decoder_struct) == 2:\n",
        "            units, act = hidden\n",
        "        else:\n",
        "            units, act = hidden[0], act\n",
        "        x = tf.keras.layers.Dense(units, activation=act, name='decoder_layers_%s' %i)(x)   \n",
        "    #  outputs\n",
        "    outputs = tf.keras.layers.Dense(input_dim, activation='linear', name='rec_inputs')(x)\n",
        "    # model\n",
        "    model = tf.keras.Model(inputs=inputs, outputs=outputs, name='ae')\n",
        "    # compile\n",
        "    opt = tf.keras.optimizers.Adam(learning_rate=lr)\n",
        "    loss = tf.keras.losses.MeanSquaredError(name='loss')\n",
        "    model.compile(optimizer=opt, loss=loss)\n",
        "\n",
        "    return model"
      ],
      "execution_count": null,
      "outputs": []
    },
    {
      "cell_type": "code",
      "metadata": {
        "id": "Ind8Rt2kXtey",
        "colab": {
          "base_uri": "https://localhost:8080/"
        },
        "outputId": "c9807865-f5d4-4600-df7e-043095f942e6"
      },
      "source": [
        "encoder_struct = [\n",
        "    (16, 'tanh'),\n",
        "    (8, 'relu'),\n",
        "]\n",
        "\n",
        "decoder_struct = [\n",
        "    (8, 'tanh'),\n",
        "    (16, 'relu'),\n",
        "\n",
        "]\n",
        "\n",
        "model = ae_model(n_x_train.shape[1], encoder_struct, decoder_struct, lr=1e-3)\n",
        "model.summary()"
      ],
      "execution_count": null,
      "outputs": [
        {
          "output_type": "stream",
          "text": [
            "Model: \"ae\"\n",
            "_________________________________________________________________\n",
            "Layer (type)                 Output Shape              Param #   \n",
            "=================================================================\n",
            "inputs (InputLayer)          [(None, 30)]              0         \n",
            "_________________________________________________________________\n",
            "encoder_layers_0 (Dense)     (None, 16)                496       \n",
            "_________________________________________________________________\n",
            "encoder_layers_1 (Dense)     (None, 8)                 136       \n",
            "_________________________________________________________________\n",
            "decoder_layers_0 (Dense)     (None, 8)                 72        \n",
            "_________________________________________________________________\n",
            "decoder_layers_1 (Dense)     (None, 16)                144       \n",
            "_________________________________________________________________\n",
            "rec_inputs (Dense)           (None, 30)                510       \n",
            "=================================================================\n",
            "Total params: 1,358\n",
            "Trainable params: 1,358\n",
            "Non-trainable params: 0\n",
            "_________________________________________________________________\n"
          ],
          "name": "stdout"
        }
      ]
    },
    {
      "cell_type": "code",
      "metadata": {
        "id": "oqfmJhhagcOB",
        "colab": {
          "base_uri": "https://localhost:8080/"
        },
        "outputId": "4ca0badc-0dad-42fc-f396-ce9a22c93805"
      },
      "source": [
        "r = model.fit(\n",
        "    n_x_train, n_x_train,\n",
        "    validation_split=0.01,\n",
        "    batch_size=256,\n",
        "    epochs=30,\n",
        "    verbose=1\n",
        ")"
      ],
      "execution_count": null,
      "outputs": [
        {
          "output_type": "stream",
          "text": [
            "Epoch 1/30\n",
            "990/990 [==============================] - 2s 2ms/step - loss: 374548352.0000 - val_loss: 375587904.0000\n",
            "Epoch 2/30\n",
            "990/990 [==============================] - 2s 2ms/step - loss: 372388608.0000 - val_loss: 372454240.0000\n",
            "Epoch 3/30\n",
            "990/990 [==============================] - 2s 2ms/step - loss: 368357280.0000 - val_loss: 367603424.0000\n",
            "Epoch 4/30\n",
            "990/990 [==============================] - 2s 2ms/step - loss: 362878208.0000 - val_loss: 361451232.0000\n",
            "Epoch 5/30\n",
            "990/990 [==============================] - 2s 2ms/step - loss: 355987840.0000 - val_loss: 353803136.0000\n",
            "Epoch 6/30\n",
            "990/990 [==============================] - 2s 2ms/step - loss: 347811872.0000 - val_loss: 345061120.0000\n",
            "Epoch 7/30\n",
            "990/990 [==============================] - 2s 2ms/step - loss: 338614976.0000 - val_loss: 335345216.0000\n",
            "Epoch 8/30\n",
            "990/990 [==============================] - 2s 2ms/step - loss: 328489760.0000 - val_loss: 324739264.0000\n",
            "Epoch 9/30\n",
            "990/990 [==============================] - 2s 2ms/step - loss: 317461408.0000 - val_loss: 313115040.0000\n",
            "Epoch 10/30\n",
            "990/990 [==============================] - 2s 2ms/step - loss: 305362304.0000 - val_loss: 300539264.0000\n",
            "Epoch 11/30\n",
            "990/990 [==============================] - 2s 2ms/step - loss: 292474976.0000 - val_loss: 287251712.0000\n",
            "Epoch 12/30\n",
            "990/990 [==============================] - 2s 2ms/step - loss: 278975808.0000 - val_loss: 273412544.0000\n",
            "Epoch 13/30\n",
            "990/990 [==============================] - 2s 2ms/step - loss: 264954528.0000 - val_loss: 259107680.0000\n",
            "Epoch 14/30\n",
            "990/990 [==============================] - 2s 2ms/step - loss: 250518992.0000 - val_loss: 244438736.0000\n",
            "Epoch 15/30\n",
            "990/990 [==============================] - 2s 2ms/step - loss: 235814896.0000 - val_loss: 229584592.0000\n",
            "Epoch 16/30\n",
            "990/990 [==============================] - 2s 2ms/step - loss: 220981888.0000 - val_loss: 214677216.0000\n",
            "Epoch 17/30\n",
            "990/990 [==============================] - 2s 2ms/step - loss: 206238336.0000 - val_loss: 199828640.0000\n",
            "Epoch 18/30\n",
            "990/990 [==============================] - 2s 2ms/step - loss: 191468832.0000 - val_loss: 185152128.0000\n",
            "Epoch 19/30\n",
            "990/990 [==============================] - 2s 2ms/step - loss: 177035504.0000 - val_loss: 170744576.0000\n",
            "Epoch 20/30\n",
            "990/990 [==============================] - 2s 2ms/step - loss: 163041744.0000 - val_loss: 157016032.0000\n",
            "Epoch 21/30\n",
            "990/990 [==============================] - 2s 2ms/step - loss: 150305936.0000 - val_loss: 157522480.0000\n",
            "Epoch 22/30\n",
            "990/990 [==============================] - 2s 2ms/step - loss: 137422720.0000 - val_loss: 131779168.0000\n",
            "Epoch 23/30\n",
            "990/990 [==============================] - 2s 2ms/step - loss: 125520888.0000 - val_loss: 120407816.0000\n",
            "Epoch 24/30\n",
            "990/990 [==============================] - 2s 2ms/step - loss: 114771712.0000 - val_loss: 110102848.0000\n",
            "Epoch 25/30\n",
            "990/990 [==============================] - 2s 2ms/step - loss: 105164528.0000 - val_loss: 101001680.0000\n",
            "Epoch 26/30\n",
            "990/990 [==============================] - 2s 2ms/step - loss: 96821128.0000 - val_loss: 93216368.0000\n",
            "Epoch 27/30\n",
            "990/990 [==============================] - 2s 2ms/step - loss: 89834112.0000 - val_loss: 86834856.0000\n",
            "Epoch 28/30\n",
            "990/990 [==============================] - 2s 2ms/step - loss: 84282800.0000 - val_loss: 81918952.0000\n",
            "Epoch 29/30\n",
            "990/990 [==============================] - 2s 2ms/step - loss: 80191816.0000 - val_loss: 78439128.0000\n",
            "Epoch 30/30\n",
            "990/990 [==============================] - 2s 2ms/step - loss: 77491304.0000 - val_loss: 76297856.0000\n"
          ],
          "name": "stdout"
        }
      ]
    },
    {
      "cell_type": "code",
      "metadata": {
        "id": "9aU8NL6AgcOQ",
        "colab": {
          "base_uri": "https://localhost:8080/",
          "height": 420
        },
        "outputId": "885ebfa9-64c9-4f30-9a71-ab670bd1306b"
      },
      "source": [
        "# Loss/Accuracy\n",
        "\n",
        "xs = sorted([item for item in r.history.keys() if 'val' not in item])\n",
        "ys = sorted([item for item in r.history.keys() if 'val' in item])\n",
        "epochs = list(range(len(r.history['loss'])))\n",
        "print(xs)\n",
        "print(ys)\n",
        "print()\n",
        "\n",
        "nrows = 1\n",
        "ncols = round(len(xs) // nrows)\n",
        "\n",
        "fig = plt.figure(figsize=(8, 5))\n",
        "axes = []\n",
        "\n",
        "for i, (x1, x2) in enumerate(zip(xs, ys)):\n",
        "    ax = fig.add_subplot(nrows, ncols, i+1)\n",
        "    ax.plot(epochs, r.history[x1], label='Train')\n",
        "    ax.plot(epochs, r.history[x2], label='Valid')\n",
        "    ax.set_xlabel('epochs')\n",
        "    ax.set_ylabel(x1.replace('_metric', ''))\n",
        "    ax.legend()\n",
        "    axes.append(ax)\n",
        "\n",
        "plt.tight_layout()\n",
        "plt.show()"
      ],
      "execution_count": null,
      "outputs": [
        {
          "output_type": "stream",
          "text": [
            "['loss']\n",
            "['val_loss']\n",
            "\n"
          ],
          "name": "stdout"
        },
        {
          "output_type": "display_data",
          "data": {
            "image/png": "[encoded data removed]",
            "text/plain": [
              "<Figure size 576x360 with 1 Axes>"
            ]
          },
          "metadata": {
            "tags": [],
            "needs_background": "light"
          }
        }
      ]
    },
    {
      "cell_type": "code",
      "metadata": {
        "id": "sItYD7WLlQKk",
        "colab": {
          "base_uri": "https://localhost:8080/"
        },
        "outputId": "4a82b407-b76b-4409-d3dd-de182a84d587"
      },
      "source": [
        "predictions = model.predict(x_test)\n",
        "rmse = np.mean(np.power(x_test - predictions, 2), axis=1)\n",
        "y_pred_test = np.asarray([1 if p > 2 else 0 for p in rmse])\n",
        "\n",
        "print(y_pred_test.shape)"
      ],
      "execution_count": null,
      "outputs": [
        {
          "output_type": "stream",
          "text": [
            "(28481,)\n"
          ],
          "name": "stdout"
        }
      ]
    },
    {
      "cell_type": "code",
      "metadata": {
        "id": "XhbrztG5yvTk",
        "colab": {
          "base_uri": "https://localhost:8080/"
        },
        "outputId": "deeeaa20-1eee-4d96-83f6-2cfc8952fe17"
      },
      "source": [
        "ae_res = evaluation(y_test, y_pred_test)"
      ],
      "execution_count": null,
      "outputs": [
        {
          "output_type": "stream",
          "text": [
            "         Accuracy: 0.0019311119693830976\n",
            "  Precision Score: 0.0019311119693830976\n",
            "     Recall Score: 1.0\n",
            "         F1 Score: 0.0038547799271096165\n"
          ],
          "name": "stdout"
        }
      ]
    },
    {
      "cell_type": "code",
      "metadata": {
        "id": "xN8xUoZjI1OL"
      },
      "source": [
        "# AUC/ROC Plot\n",
        "\n",
        "def plot_auc_roc_curve(y_true, y_pred):\n",
        "\n",
        "    fpr, tpr, thresholds = roc_curve(y_true, y_pred)\n",
        "    roc_auc = auc(fpr, tpr)\n",
        "\n",
        "    plt.title('Receiver Operating Characteristic')\n",
        "    plt.plot(fpr, tpr, 'b', label='AUC = %0.2f' % roc_auc)\n",
        "    plt.legend(loc='lower right')\n",
        "    plt.plot([0, 1], [0, 1], 'r--')\n",
        "    plt.xlim([-0.1, 1.0])\n",
        "    plt.ylim([-0.1, 1.01])\n",
        "    plt.ylabel('True Positive Rate')\n",
        "    plt.xlabel('False Positive Rate')\n",
        "    plt.show()\n",
        "    return roc_auc"
      ],
      "execution_count": null,
      "outputs": []
    },
    {
      "cell_type": "code",
      "metadata": {
        "id": "NDSY92IWJEVl"
      },
      "source": [
        "plot_auc_roc_curve(y_test, y_pred_test.argmax(axis=-1))"
      ],
      "execution_count": null,
      "outputs": []
    },
    {
      "cell_type": "markdown",
      "metadata": {
        "id": "4CvUhZxHArWg"
      },
      "source": [
        "# Comparison\n",
        "\n"
      ]
    },
    {
      "cell_type": "code",
      "metadata": {
        "id": "p8AupTyTy5mJ",
        "colab": {
          "base_uri": "https://localhost:8080/",
          "height": 173
        },
        "outputId": "a5a0e3c5-3e2d-4d9f-cefe-c9339c00a1a1"
      },
      "source": [
        "results = [\n",
        "    res_mlp,\n",
        "    isof_res,\n",
        "    kmeans_res,\n",
        "    ae_res\n",
        "]\n",
        "results = pd.DataFrame(results)\n",
        "results = results.round(3)\n",
        "results.index = ['ANN', 'ISOF', 'KMEANS', 'AE']\n",
        "results"
      ],
      "execution_count": null,
      "outputs": [
        {
          "output_type": "execute_result",
          "data": {
            "text/html": [
              "<div>\n",
              "<style scoped>\n",
              "    .dataframe tbody tr th:only-of-type {\n",
              "        vertical-align: middle;\n",
              "    }\n",
              "\n",
              "    .dataframe tbody tr th {\n",
              "        vertical-align: top;\n",
              "    }\n",
              "\n",
              "    .dataframe thead th {\n",
              "        text-align: right;\n",
              "    }\n",
              "</style>\n",
              "<table border=\"1\" class=\"dataframe\">\n",
              "  <thead>\n",
              "    <tr style=\"text-align: right;\">\n",
              "      <th></th>\n",
              "      <th>Accuracy</th>\n",
              "      <th>Precision</th>\n",
              "      <th>Recall</th>\n",
              "      <th>F1</th>\n",
              "    </tr>\n",
              "  </thead>\n",
              "  <tbody>\n",
              "    <tr>\n",
              "      <th>ANN</th>\n",
              "      <td>0.999</td>\n",
              "      <td>0.999</td>\n",
              "      <td>1.000</td>\n",
              "      <td>0.999</td>\n",
              "    </tr>\n",
              "    <tr>\n",
              "      <th>ISOF</th>\n",
              "      <td>0.903</td>\n",
              "      <td>0.016</td>\n",
              "      <td>0.885</td>\n",
              "      <td>0.032</td>\n",
              "    </tr>\n",
              "    <tr>\n",
              "      <th>KMEANS</th>\n",
              "      <td>0.150</td>\n",
              "      <td>0.003</td>\n",
              "      <td>0.984</td>\n",
              "      <td>0.005</td>\n",
              "    </tr>\n",
              "    <tr>\n",
              "      <th>AE</th>\n",
              "      <td>0.993</td>\n",
              "      <td>0.157</td>\n",
              "      <td>0.771</td>\n",
              "      <td>0.261</td>\n",
              "    </tr>\n",
              "  </tbody>\n",
              "</table>\n",
              "</div>"
            ],
            "text/plain": [
              "        Accuracy  Precision  Recall     F1\n",
              "ANN        0.999      0.999   1.000  0.999\n",
              "ISOF       0.903      0.016   0.885  0.032\n",
              "KMEANS     0.150      0.003   0.984  0.005\n",
              "AE         0.993      0.157   0.771  0.261"
            ]
          },
          "metadata": {
            "tags": []
          },
          "execution_count": 251
        }
      ]
    },
    {
      "cell_type": "markdown",
      "metadata": {
        "id": "5ZplgksAYzyG"
      },
      "source": [
        "According to the above results, the supervised model (ANN) ranked first in terms of chosen metric (F1 score), and among unsupervised models, the Autoencode, IsolationForest, and Kmeans are placed second, third, and fourth, respectively.\n",
        "\n",
        "\n",
        "The supervised model uses the transaction labels to train a classifier that can discriminate between normal and fraud transactions. The unsupervised model uses unlabeled data for training to capture the fraud transaction. As a result, the supervised learning model is highly accurate and time-saving. But in real-world problem, the insufficient annotation and data imbalance issue is going to be a critical matter. In that case, the unsupervised learning acts useful and finds all kinds of unknown patterns in data."
      ]
    }
  ]
}